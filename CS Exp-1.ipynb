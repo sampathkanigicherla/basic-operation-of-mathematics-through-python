{
 "cells": [
  {
   "cell_type": "code",
   "execution_count": 1,
   "id": "7cce6fd1-cc4a-412b-b27b-364716512297",
   "metadata": {},
   "outputs": [
    {
     "name": "stdin",
     "output_type": "stream",
     "text": [
      "Enter 1 num 5\n",
      "Enter 2 num 4\n"
     ]
    },
    {
     "name": "stdout",
     "output_type": "stream",
     "text": [
      "The sum of 5 and 4 is 9.0\n"
     ]
    }
   ],
   "source": [
    "number1=input('Enter 1 num')\n",
    "number2=input('Enter 2 num')\n",
    "summm=float(number1)+ float(number2)\n",
    "print('The sum of {0} and {1} is {2}'.format(number1, number2, summm))"
   ]
  },
  {
   "cell_type": "code",
   "execution_count": 2,
   "id": "19237069-b891-46bf-b5d6-26a98a256555",
   "metadata": {},
   "outputs": [
    {
     "name": "stdin",
     "output_type": "stream",
     "text": [
      "Enter 1 num 5\n",
      "Enter 2 num 4\n"
     ]
    },
    {
     "name": "stdout",
     "output_type": "stream",
     "text": [
      "The sum of 5 and 4 is 9.0\n"
     ]
    }
   ],
   "source": [
    "number1=input('Enter 1 num')\n",
    "number2=input('Enter 2 num')\n",
    "summm=float(number1)+ float(number2)\n",
    "print('The sum of {0} and {1} is {2}'.format(number1, number2, summm))"
   ]
  },
  {
   "cell_type": "code",
   "execution_count": 3,
   "id": "e800736e-526c-4433-a0d4-546a4948a3c9",
   "metadata": {},
   "outputs": [
    {
     "name": "stdin",
     "output_type": "stream",
     "text": [
      "Enter 1 num 5\n",
      "Enter 2 num 4\n"
     ]
    },
    {
     "name": "stdout",
     "output_type": "stream",
     "text": [
      "The sum of 5 and 4 is 20.0\n"
     ]
    }
   ],
   "source": [
    "number1=input('Enter 1 num')\n",
    "number2=input('Enter 2 num')\n",
    "multi=float(number1)* float(number2)\n",
    "print('The sum of {0} and {1} is {2}'.format(number1, number2, multi))"
   ]
  },
  {
   "cell_type": "code",
   "execution_count": 4,
   "id": "11008c0a-b5a9-4b75-931f-a565826a1e28",
   "metadata": {},
   "outputs": [
    {
     "name": "stdin",
     "output_type": "stream",
     "text": [
      "Enter 1 num 5\n",
      "Enter 2 num 4\n"
     ]
    },
    {
     "name": "stdout",
     "output_type": "stream",
     "text": [
      "The sum of 5 and 4 is 1.25\n"
     ]
    }
   ],
   "source": [
    "number1=input('Enter 1 num')\n",
    "number2=input('Enter 2 num')\n",
    "divis=float(number1)/ float(number2)\n",
    "print('The sum of {0} and {1} is {2}'.format(number1, number2, divis))"
   ]
  },
  {
   "cell_type": "code",
   "execution_count": 5,
   "id": "8f888507-4508-439a-aa0b-40d29c626aa6",
   "metadata": {},
   "outputs": [
    {
     "name": "stdout",
     "output_type": "stream",
     "text": [
      "Mean is : 4.857142857142857\n"
     ]
    }
   ],
   "source": [
    "import statistics\n",
    "datasets = [5, 2, 7, 4, 2, 6, 8]\n",
    "x = statistics.mean(datasets)\n",
    "# Printing the mean\n",
    "print('Mean is :', x)"
   ]
  },
  {
   "cell_type": "code",
   "execution_count": 6,
   "id": "d6c01c52-cb0c-4fd7-917f-ed6ea590c148",
   "metadata": {},
   "outputs": [
    {
     "name": "stdout",
     "output_type": "stream",
     "text": [
      "Standard Deviation of sample is 1.9235384061671346 \n"
     ]
    }
   ],
   "source": [
    "import statistics\n",
    "# creating a simple data - set\n",
    "sample = [8, 9,10,11,13]\n",
    "# Prints standard deviation \n",
    "print('Standard Deviation of sample is % s '% (statistics.stdev(sample)))"
   ]
  },
  {
   "cell_type": "code",
   "execution_count": 8,
   "id": "0e768c54-f6e2-4f8f-a0b6-328218bb0472",
   "metadata": {},
   "outputs": [
    {
     "name": "stdout",
     "output_type": "stream",
     "text": [
      "High median of data-set is 6 \n"
     ]
    }
   ],
   "source": [
    "import statistics\n",
    "# list of set of the integers\n",
    "dataset = [1,3,7,5,9,6]\n",
    "print('High median of data-set is %s '\n",
    "% (statistics.median_high(dataset)))"
   ]
  },
  {
   "cell_type": "code",
   "execution_count": 9,
   "id": "ff13af06-3414-4ee9-a147-eb7713abbc7c",
   "metadata": {},
   "outputs": [
    {
     "name": "stdout",
     "output_type": "stream",
     "text": [
      "Low median of data-set is 12 \n"
     ]
    }
   ],
   "source": [
    "import statistics\n",
    "# simple list of a set of integers\n",
    "set1 = [8,10,12,14,16]\n",
    "# Note: low median will always be a member of the data-set.\n",
    "# Print low median of the data-set\n",
    "print('Low median of data-set is % s '\n",
    "% (statistics.median_low(set1)))"
   ]
  },
  {
   "cell_type": "code",
   "execution_count": 10,
   "id": "25cda0af-0791-4d1d-b68e-579bea0ac7f6",
   "metadata": {},
   "outputs": [
    {
     "name": "stdout",
     "output_type": "stream",
     "text": [
      "Calculated Mode: 2\n"
     ]
    }
   ],
   "source": [
    "import statistics\n",
    "# declaring a simple data-set consisting of real valued positive integers.\n",
    "dataset =[2,3,5,7,9,2,2,6,6,7,3]\n",
    "# Printing out the mode of given data-set\n",
    "print('Calculated Mode: % s' % (statistics.mode(dataset)))"
   ]
  },
  {
   "cell_type": "code",
   "execution_count": 11,
   "id": "c24df4b1-365d-407a-877b-be9c65fb7ff4",
   "metadata": {},
   "outputs": [
    {
     "name": "stdout",
     "output_type": "stream",
     "text": [
      "Median of data-set is : 4.0\n"
     ]
    }
   ],
   "source": [
    "import statistics\n",
    "datasets = [3,-2,5,6,9,2,11,-1]\n",
    "# Printing median of the\n",
    "# random data-set\n",
    "print('Median of data-set is : % s'\n",
    "% (statistics.median(datasets)))"
   ]
  },
  {
   "cell_type": "code",
   "execution_count": 12,
   "id": "b98720e0-bfc2-4292-a73b-add986c65e19",
   "metadata": {},
   "outputs": [
    {
     "name": "stdout",
     "output_type": "stream",
     "text": [
      "Mean is : 4.571428571428571\n"
     ]
    }
   ],
   "source": [
    "import statistics\n",
    "# list of positive integer numbers\n",
    "datasets = [1,5,7,8,2,6,3]\n",
    "x = statistics.mean(datasets)\n",
    "# Printing the mean\n",
    "print('Mean is :', x)"
   ]
  },
  {
   "cell_type": "code",
   "execution_count": 18,
   "id": "d920e3d5-a8aa-43a8-847d-ba703217f47e",
   "metadata": {},
   "outputs": [
    {
     "name": "stdin",
     "output_type": "stream",
     "text": [
      "Enter first side:  2\n",
      "Enter second side:  3\n",
      "Enter third side:  4\n"
     ]
    },
    {
     "name": "stdout",
     "output_type": "stream",
     "text": [
      "The area of the triangle is 2.90\n"
     ]
    }
   ],
   "source": [
    "a = float(input('Enter first side: '))\n",
    "b = float(input('Enter second side: '))\n",
    "c = float(input('Enter third side: '))\n",
    "\n",
    "# calculate the semi-perimeter\n",
    "s = (a + b + c) / 2\n",
    "\n",
    "# calculate the area\n",
    "area = (s*(s-a)*(s-b)*(s-c)) ** 0.5\n",
    "print('The area of the triangle is %0.2f' %area)"
   ]
  },
  {
   "cell_type": "code",
   "execution_count": null,
   "id": "51fdc5e2-d3f6-416e-9e5a-bf0f560eeec1",
   "metadata": {},
   "outputs": [],
   "source": []
  }
 ],
 "metadata": {
  "kernelspec": {
   "display_name": "Python 3",
   "language": "python",
   "name": "python3"
  },
  "language_info": {
   "codemirror_mode": {
    "name": "ipython",
    "version": 3
   },
   "file_extension": ".py",
   "mimetype": "text/x-python",
   "name": "python",
   "nbconvert_exporter": "python",
   "pygments_lexer": "ipython3",
   "version": "3.8.8"
  }
 },
 "nbformat": 4,
 "nbformat_minor": 5
}
